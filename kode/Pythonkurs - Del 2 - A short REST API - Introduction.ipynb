{
  "cells": [
    {
      "cell_type": "markdown",
      "metadata": {
        "id": "view-in-github",
        "colab_type": "text"
      },
      "source": [
        "<a href=\"https://colab.research.google.com/github/kbotnen/pythonkurs_v25/blob/main/kode/Pythonkurs%20-%20Del%202%20-%20A%20short%20REST%20API%20-%20Introduction.ipynb\" target=\"_parent\"><img src=\"https://colab.research.google.com/assets/colab-badge.svg\" alt=\"Open In Colab\"/></a>"
      ]
    },
    {
      "cell_type": "code",
      "execution_count": null,
      "id": "0eb47033",
      "metadata": {
        "id": "0eb47033"
      },
      "outputs": [],
      "source": [
        "import requests\n",
        "api_url = \"https://jsonplaceholder.typicode.com/posts\"\n",
        "response = requests.get(api_url)\n",
        "\n",
        "an_array = response.json()\n",
        "\n",
        "for an_item in an_array:\n",
        "    print(type(an_item))\n",
        "    print(an_item[\"id\"])"
      ]
    },
    {
      "cell_type": "code",
      "execution_count": null,
      "id": "c3f90511",
      "metadata": {
        "id": "c3f90511"
      },
      "outputs": [],
      "source": [
        "import requests\n",
        "api_url = \"https://jsonplaceholder.typicode.com/todos/2\"\n",
        "response = requests.get(api_url)\n",
        "response.json()"
      ]
    },
    {
      "cell_type": "code",
      "execution_count": null,
      "id": "4c78c8d6",
      "metadata": {
        "id": "4c78c8d6"
      },
      "outputs": [],
      "source": [
        "import requests\n",
        "api_url = \"https://jsonplaceholder.typicode.com/todos\"\n",
        "todo = {\"userId\": 1, \"title\": \"Buy milk\", \"completed\": False}\n",
        "response = requests.post(api_url, json=todo)\n",
        "response.json()\n",
        "\n",
        "response.status_code"
      ]
    },
    {
      "cell_type": "code",
      "execution_count": null,
      "id": "a0a736b2",
      "metadata": {
        "id": "a0a736b2"
      },
      "outputs": [],
      "source": [
        "import requests\n",
        "api_url = \"https://jsonplaceholder.typicode.com/todos/10\"\n",
        "response = requests.get(api_url)\n",
        "response.json()\n",
        "\n",
        "todo = {\"userId\": 1, \"title\": \"Wash car\", \"completed\": True}\n",
        "response = requests.put(api_url, json=todo)\n",
        "response.json()\n",
        "\n",
        "response.status_code"
      ]
    },
    {
      "cell_type": "code",
      "execution_count": null,
      "id": "7522a3e1",
      "metadata": {
        "id": "7522a3e1"
      },
      "outputs": [],
      "source": [
        "import requests\n",
        "api_url = \"https://jsonplaceholder.typicode.com/todos/10\"\n",
        "response = requests.delete(api_url)\n",
        "response.json()\n",
        "\n",
        "response.status_code"
      ]
    },
    {
      "cell_type": "code",
      "execution_count": null,
      "id": "7ab558fd",
      "metadata": {
        "id": "7ab558fd"
      },
      "outputs": [],
      "source": [
        "import requests\n",
        "response = requests.get(\"https://visualisere.no\")\n",
        "\n",
        "print(f\"The URL you requested is {response.url}\")\n",
        "print(f\"The response status is {response.status_code}\")\n",
        "print(f\"This requests took {response.elapsed.microseconds} microseconds.\")\n",
        "if response.is_redirect:\n",
        "    print(\"Redirect\")\n",
        "else:\n",
        "    print(\"Not redirect\")"
      ]
    },
    {
      "cell_type": "code",
      "execution_count": null,
      "id": "d3d51e39",
      "metadata": {
        "id": "d3d51e39"
      },
      "outputs": [],
      "source": [
        "import requests\n",
        "# We can add parameters to the URL. Useful when searching on webpage to name one example.\n",
        "api_url = \"https://api.github.com/search/repositories\"\n",
        "params = {\"q\": \"python+pandas\"}\n",
        "response = requests.get(api_url, params=params)\n",
        "\n",
        "print(f\"The response status is {response.status_code}\")"
      ]
    },
    {
      "cell_type": "code",
      "execution_count": null,
      "id": "97890c5e",
      "metadata": {
        "id": "97890c5e"
      },
      "outputs": [],
      "source": [
        "import requests\n",
        "# Basic authentication When we need to access exclusive content. Allow.\n",
        "api_url = \"https://postman-echo.com/basic-auth\"\n",
        "# Authentication credentials:\n",
        "username = \"postman\"\n",
        "password = \"password\"\n",
        "# The GET request:\n",
        "response = requests.get(url=api_url, auth=(username, password))\n",
        "print(f\"The response status is {response.status_code}\")"
      ]
    },
    {
      "cell_type": "code",
      "execution_count": null,
      "id": "3c1ea19f",
      "metadata": {
        "id": "3c1ea19f"
      },
      "outputs": [],
      "source": [
        "import requests\n",
        "# Authorization Header: When we dont have username+password, and want to use an access token instead.\n",
        "api_url = \"https://postman-echo.com/basic-auth\"\n",
        "headers = {\"Authorization\" : \"Basic cG9zdG1hbjpwYXNzd29yZA==\"}\n",
        "response = requests.get(url=api_url, headers=headers)\n",
        "\n",
        "print(f\"The response status is {response.status_code}\\n\")\n",
        "try:\n",
        "    print(f'Response JSON:\\n{response.json()}')\n",
        "except:\n",
        "    print('Response is not JSON')"
      ]
    },
    {
      "cell_type": "markdown",
      "id": "4ded22b8",
      "metadata": {
        "id": "4ded22b8"
      },
      "source": [
        "## Del 1 - API Kall\n",
        "I denne notebooken skal vi se på hvordan vi kan kalle et API og gjøre noe fornuftig med de dataene vi får tilbake. Når vi skal bruke et API kan vi kalle det på flere forskjellige måter:\n",
        "\n",
        "    - GET: Gir oss mulighet til å hente data. Svaret kommer ofte i form av en JSON datastruktur.\n",
        "    - POST: Gir oss mulighet til å sende inn data.\n",
        "    - DELETE: Gir oss mulighet til å slette data.\n",
        "    - PUT: Gir oss mulighet til å oppdatere data.\n",
        "    \n",
        "Et API kan støtte en eller flere av disse forskjellige metodene. Det er også ganske vanlig at et API krever en form for autentisering, og at hvilken metoder som er tilgjengelig varierer ut fra hvilken tilganger du har fått tildelt.\n",
        "\n",
        "Her er et eksempel på hvordan vi kan kalle et API:\n",
        "\n",
        "    (base) adrock2nd@pandacourse % curl 'https://data.brreg.no/enhetsregisteret/api/enheter/991323201' -i -X GET\n",
        "    HTTP/1.1 200\n",
        "    vary: Origin\n",
        "    vary: Access-Control-Request-Method\n",
        "    vary: Access-Control-Request-Headers\n",
        "    content-type: application/json\n",
        "    transfer-encoding: chunked\n",
        "    date: Tue, 20 Sep 2022 08:34:49 GMT\n",
        "    set-cookie: 0a6517082ccf6d7c45f7bf355f56b22c=a3a914b3d45db36b495bf6a27f0d84ad; path=/; HttpOnly; Secure; SameSite=None\n",
        "    cache-control: private\n",
        "    Set-Cookie: BRjEE1=!50oxZvwQswduWrZLGXDs3x8fCpKDZd0WtzE8qoS7iqVtHEZ7kMCABnx0MpBNIIpLD6VkKlyE3DOkmg==; path=/; Httponly; Secure\n",
        "    Strict-Transport-Security: max-age=31536000; includeSubDomains\n",
        "\n",
        "    {\"organisasjonsnummer\":\"991323201\",\"navn\":\"BOTNEN 3D\",\"organisasjonsform\":{\"kode\":\"ENK\",\"beskrivelse\":\"Enkeltpersonforetak\",\"_links\":{\"self\":{\"href\":\"https://data.brreg.no/enhetsregisteret/api/organisasjonsformer/ENK\"}}},\"hjemmeside\":\"www.botnen.org\",\"registreringsdatoEnhetsregisteret\":\"2007-06-04\",\"registrertIMvaregisteret\":false,\"naeringskode1\":{\"beskrivelse\":\"Programmeringstjenester\",\"kode\":\"62.010\"},\"antallAnsatte\":0,\"forretningsadresse\":{\"land\":\"Norge\",\"landkode\":\"NO\",\"postnummer\":\"5160\",\"poststed\":\"LAKSEVÅG\",\"adresse\":[\"Damsgårdsveien 162\"],\"kommune\":\"BERGEN\",\"kommunenummer\":\"4601\"},\"institusjonellSektorkode\":{\"kode\":\"8200\",\"beskrivelse\":\"Personlig næringsdrivende\"},\"registrertIForetaksregisteret\":false,\"registrertIStiftelsesregisteret\":false,\"registrertIFrivillighetsregisteret\":false,\"konkurs\":false,\"underAvvikling\":false,\"underTvangsavviklingEllerTvangsopplosning\":false,\"maalform\":\"Nynorsk\",\"_links\":{\"self\":{\"href\":\"https://data.brreg.no/enhetsregisteret/api/enheter/991323201\"}}}\n",
        "\n",
        "Et velfungerende API vil gi deg en HTTP-statuskode sammen med eventuelt data. Her er noen vanlige statuskoder:\n",
        "\n",
        "    200 : OK.\n",
        "    401 : Authentication failed!\n",
        "    403 : Access is forbidden by the API service.\n",
        "    404 : The requested API service is not found on the server/web.\n",
        "    500 : Internal Server Error has occurred.\n",
        "    \n",
        "Du kan se flere statuskoder her: [https://en.wikipedia.org/wiki/List_of_HTTP_status_codes](https://en.wikipedia.org/wiki/List_of_HTTP_status_codes)\n",
        "\n",
        "Som vi kan se i eksempelet over så fikk vi en 200: OK, sammen med data i JSON format."
      ]
    },
    {
      "cell_type": "code",
      "execution_count": null,
      "id": "9c3b59b8",
      "metadata": {
        "id": "9c3b59b8"
      },
      "outputs": [],
      "source": [
        "import requests\n",
        "\n",
        "import json\n",
        "import pprint\n",
        "\n",
        "url = 'https://data.brreg.no/enhetsregisteret/api/enheter/931882724'\n",
        "\n",
        "response = requests.get(url)\n",
        "json_data = response.json()"
      ]
    },
    {
      "cell_type": "code",
      "execution_count": null,
      "id": "e74232dd",
      "metadata": {
        "id": "e74232dd"
      },
      "outputs": [],
      "source": [
        "print(\"Type:\", type(json_data)) # Let see what we received from the API-call."
      ]
    },
    {
      "cell_type": "code",
      "execution_count": null,
      "id": "7fd844ac",
      "metadata": {
        "scrolled": true,
        "id": "7fd844ac"
      },
      "outputs": [],
      "source": [
        "print (json_data) # Examine current state."
      ]
    },
    {
      "cell_type": "code",
      "execution_count": null,
      "id": "43a8825e",
      "metadata": {
        "id": "43a8825e"
      },
      "outputs": [],
      "source": [
        "pprint.pprint(json_data) # Let us use the pprint built-in library for show."
      ]
    },
    {
      "cell_type": "code",
      "execution_count": null,
      "id": "bf5d6a87",
      "metadata": {
        "id": "bf5d6a87"
      },
      "outputs": [],
      "source": [
        "print(json_data['forretningsadresse']['postnummer'])"
      ]
    },
    {
      "cell_type": "markdown",
      "id": "8b19dfaa",
      "metadata": {
        "id": "8b19dfaa"
      },
      "source": [
        "## Del 2"
      ]
    },
    {
      "cell_type": "code",
      "execution_count": null,
      "id": "51ebb794",
      "metadata": {
        "scrolled": true,
        "id": "51ebb794"
      },
      "outputs": [],
      "source": [
        "import pandas as pd\n",
        "df = pd.read_excel(\"Pythonkurs - Del 2 - A short REST API - Introduction - Source.xlsx\")\n",
        "df.info() # Get information about the dataframe.\n",
        "df # List out the dataframe."
      ]
    },
    {
      "cell_type": "code",
      "execution_count": null,
      "id": "c6eb1728",
      "metadata": {
        "id": "c6eb1728"
      },
      "outputs": [],
      "source": [
        "# Create a function that read a selected organization from the API\n",
        "def read_from_api(orgnumber):\n",
        "    url = 'https://data.brreg.no/enhetsregisteret/api/enheter/%s' %orgnumber\n",
        "    response = requests.get(url)\n",
        "    json_data = response.json()\n",
        "    return json_data"
      ]
    },
    {
      "cell_type": "code",
      "execution_count": null,
      "id": "5a186e41",
      "metadata": {
        "id": "5a186e41"
      },
      "outputs": [],
      "source": [
        "read_from_api(931882724) # Test the function read_from_api"
      ]
    },
    {
      "cell_type": "code",
      "execution_count": null,
      "id": "f5ac494e",
      "metadata": {
        "id": "f5ac494e"
      },
      "outputs": [],
      "source": [
        "# Create a function that extract postalcode from API response\n",
        "def extract_postalcode(json_data):\n",
        "    postaladdress = json_data['forretningsadresse']['postnummer']\n",
        "    return postaladdress\n"
      ]
    },
    {
      "cell_type": "code",
      "execution_count": null,
      "id": "70303325",
      "metadata": {
        "id": "70303325"
      },
      "outputs": [],
      "source": [
        "print(extract_postalcode(read_from_api(931882724))) # Test the function extract_postalcode"
      ]
    },
    {
      "cell_type": "code",
      "execution_count": null,
      "id": "bcff8bfc",
      "metadata": {
        "scrolled": true,
        "id": "bcff8bfc"
      },
      "outputs": [],
      "source": [
        "# Lookup all the postalcodes for our orgnumbers.\n",
        "resultdict = {}\n",
        "for orgnumber in df['Orgnummer']:\n",
        "    resultdict[orgnumber] = extract_postalcode(read_from_api(orgnumber))\n"
      ]
    },
    {
      "cell_type": "code",
      "execution_count": null,
      "id": "85c2620c",
      "metadata": {
        "id": "85c2620c"
      },
      "outputs": [],
      "source": [
        "print(resultdict)\n",
        "\n",
        "df['Postnummer'] = df['Orgnummer'].map(resultdict) # Create a new column in our DataFrame containing our postalcodes."
      ]
    },
    {
      "cell_type": "code",
      "execution_count": null,
      "id": "e400df7c",
      "metadata": {
        "id": "e400df7c"
      },
      "outputs": [],
      "source": [
        "df.to_excel(\"Pythonkurs - Del 2 - A short REST API - Introduction - Postnummer_resultater.xlsx\", header=True) # Write our result to a new excelfile."
      ]
    }
  ],
  "metadata": {
    "kernelspec": {
      "display_name": "Python 3 (ipykernel)",
      "language": "python",
      "name": "python3"
    },
    "language_info": {
      "codemirror_mode": {
        "name": "ipython",
        "version": 3
      },
      "file_extension": ".py",
      "mimetype": "text/x-python",
      "name": "python",
      "nbconvert_exporter": "python",
      "pygments_lexer": "ipython3",
      "version": "3.12.2"
    },
    "colab": {
      "provenance": [],
      "include_colab_link": true
    }
  },
  "nbformat": 4,
  "nbformat_minor": 5
}