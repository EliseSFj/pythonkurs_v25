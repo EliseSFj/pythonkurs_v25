{
 "cells": [
  {
   "cell_type": "markdown",
   "metadata": {
    "colab_type": "text",
    "id": "view-in-github"
   },
   "source": [
    "<a href=\"https://colab.research.google.com/github/kbotnen/pythonkurs_v25/blob/main/kode/Pythonkurs%20-%20Del%202%20-%20A%20short%20REST%20API%20-%20Vinmonopolet%20testing.ipynb\" target=\"_parent\"><img src=\"https://colab.research.google.com/assets/colab-badge.svg\" alt=\"Open In Colab\"/></a>"
   ]
  },
  {
   "cell_type": "code",
   "execution_count": null,
   "metadata": {
    "id": "KLOZv0bV1-pR"
   },
   "outputs": [],
   "source": [
    "%pip install requests-cache\n",
    "%pip install url-normalize\n",
    "%pip install cattrs\n",
    "%pip install plattformdirs\n",
    "%pip install exceptionsgroups"
   ]
  },
  {
   "cell_type": "code",
   "execution_count": null,
   "metadata": {
    "id": "sh-MGKLf1mrH"
   },
   "outputs": [],
   "source": [
    "import requests\n",
    "import json\n",
    "import requests_cache # pip install requests-cache, url-normalize, cattrs, plattformdirs, exceptionsgroups\n",
    "\n",
    "import configparser"
   ]
  },
  {
   "cell_type": "code",
   "execution_count": null,
   "metadata": {},
   "outputs": [],
   "source": [
    "def read_config(section):\n",
    "    config = configparser.ConfigParser()\n",
    "    config.read('config.ini')\n",
    "    if section in config:\n",
    "        config_results = config[section]\n",
    "    return config_results\n",
    "\n",
    "secrets = read_config('vinmonopolet')\n",
    "\n",
    "print(secrets['Ocp-Apim-Subscription-Key'])"
   ]
  },
  {
   "cell_type": "code",
   "execution_count": null,
   "metadata": {
    "id": "pO38Wwbe1mrI"
   },
   "outputs": [],
   "source": [
    "requests_cache.install_cache(cache_name='vinmonopolet_cache', backend='sqlite', expire_after=720)\n",
    "\n",
    "#https://api.vinmonopolet.no/api-details#api=stores&operation=GET_DETAILS\n",
    "headers = {\n",
    "    'Ocp-Apim-Subscription-Key': secrets['Ocp-Apim-Subscription-Key']\n",
    "}\n",
    "\n",
    "api_url = \"https://apis.vinmonopolet.no/stores/v0/details\"\n",
    "\n",
    "response = requests.get(api_url, headers=headers)\n",
    "\n",
    "json_response = response.json()\n",
    "\n",
    "#print(json_response)\n",
    "\n",
    "for store in json_response:\n",
    "    #print(store['storeName'])\n",
    "    #print(store['status'])\n",
    "    address = dict(store['address'])\n",
    "    #print(address['gpsCoord'])\n",
    "    if(address['city'] == \"Oslo\"):\n",
    "        print(store['storeName'])\n",
    "        print(store['status'])\n",
    "        print(address['gpsCoord'])\n",
    "        lat, lon = address['gpsCoord'].split(';')\n",
    "        print('--------------------')"
   ]
  },
  {
   "cell_type": "code",
   "execution_count": null,
   "metadata": {
    "id": "0qqic1JA1mrJ"
   },
   "outputs": [],
   "source": []
  }
 ],
 "metadata": {
  "colab": {
   "include_colab_link": true,
   "provenance": []
  },
  "kernelspec": {
   "display_name": "Python 3 (ipykernel)",
   "language": "python",
   "name": "python3"
  },
  "language_info": {
   "codemirror_mode": {
    "name": "ipython",
    "version": 3
   },
   "file_extension": ".py",
   "mimetype": "text/x-python",
   "name": "python",
   "nbconvert_exporter": "python",
   "pygments_lexer": "ipython3",
   "version": "3.12.2"
  }
 },
 "nbformat": 4,
 "nbformat_minor": 4
}
