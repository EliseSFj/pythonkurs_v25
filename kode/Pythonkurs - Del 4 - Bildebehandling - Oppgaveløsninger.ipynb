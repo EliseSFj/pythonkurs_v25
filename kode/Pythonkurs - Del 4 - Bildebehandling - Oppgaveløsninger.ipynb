{
 "cells": [
  {
   "cell_type": "markdown",
   "id": "1ce04596-5eeb-4444-9583-c310307ad341",
   "metadata": {},
   "source": [
    "## Oppgave\n",
    "\n",
    "0: Opprett et nytt kodeprosjekt / fil.\n",
    "\n",
    "1: Finn et egnet bilde og se om du greier å detektere andre features, f.eks munn / øyner.\n",
    "\n",
    "NB! Dere finner flere trente haarcascade set her [https://github.com/opencv/opencv/tree/master/data/haarcascades](https://github.com/opencv/opencv/tree/master/data/haarcascades)"
   ]
  },
  {
   "cell_type": "markdown",
   "id": "5720cebd",
   "metadata": {},
   "source": [
    "## Løsningsforslag"
   ]
  },
  {
   "cell_type": "code",
   "execution_count": null,
   "id": "4668855c",
   "metadata": {},
   "outputs": [],
   "source": [
    "import cv2\n",
    "from matplotlib import pyplot as plt\n",
    "\n",
    "# Create the haar cascade\n",
    "catcascPath = \"haarcascade_frontalcatface_extended.xml\" # Just an xml file that contains data about a catface.\n",
    "catfaceCascade = cv2.CascadeClassifier(catcascPath) # Load the cascade into memory."
   ]
  },
  {
   "cell_type": "code",
   "execution_count": null,
   "id": "6c547745",
   "metadata": {},
   "outputs": [],
   "source": [
    "# Due to jupyters architecture we can not use cv2.imshow() so we create a helper method to utilize pyplot.\n",
    "def show_image(image, title):\n",
    "    plt.imshow(image)\n",
    "    plt.title(title)\n",
    "    plt.show()"
   ]
  },
  {
   "cell_type": "code",
   "execution_count": null,
   "id": "b24efc7f",
   "metadata": {},
   "outputs": [],
   "source": [
    "cat_face_image = cv2.imread(\"../data/image_video/cat3.jpg\") # cv2 read in BGR format.\n",
    "cat_gray_image_face = cv2.cvtColor(cat_face_image, cv2.COLOR_BGR2GRAY)\n",
    "\n",
    "catfaces = catfaceCascade.detectMultiScale(\n",
    "    cat_gray_image_face,\n",
    "    scaleFactor=1.1,\n",
    "    minNeighbors=5,\n",
    "    flags = cv2.CASCADE_SCALE_IMAGE\n",
    ")\n",
    "\n",
    "# Iterate the list of faces and draw a rectangle around the faces.\n",
    "for (x, y, w, h) in catfaces:\n",
    "    cv2.rectangle(cat_face_image, (x, y), (x+w, y+h), (0, 255, 0), 2)\n",
    "    \n",
    "show_image(cv2.cvtColor(cat_face_image, cv2.COLOR_BGR2RGB), \"Number of catfaces found = %s\" % len(catfaces))"
   ]
  }
 ],
 "metadata": {
  "kernelspec": {
   "display_name": "Python 3 (ipykernel)",
   "language": "python",
   "name": "python3"
  },
  "language_info": {
   "codemirror_mode": {
    "name": "ipython",
    "version": 3
   },
   "file_extension": ".py",
   "mimetype": "text/x-python",
   "name": "python",
   "nbconvert_exporter": "python",
   "pygments_lexer": "ipython3",
   "version": "3.12.2"
  }
 },
 "nbformat": 4,
 "nbformat_minor": 5
}
