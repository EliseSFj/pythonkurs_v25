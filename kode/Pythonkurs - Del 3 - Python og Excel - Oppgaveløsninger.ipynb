{
  "cells": [
    {
      "cell_type": "markdown",
      "metadata": {
        "id": "view-in-github",
        "colab_type": "text"
      },
      "source": [
        "<a href=\"https://colab.research.google.com/github/kbotnen/pythonkurs_v25/blob/main/kode/Pythonkurs%20-%20Del%203%20-%20Python%20og%20Excel%20-%20Oppgavel%C3%B8sninger.ipynb\" target=\"_parent\"><img src=\"https://colab.research.google.com/assets/colab-badge.svg\" alt=\"Open In Colab\"/></a>"
      ]
    },
    {
      "cell_type": "markdown",
      "id": "c49bfb9e-9e99-41e2-a468-83763ad0deb3",
      "metadata": {
        "id": "c49bfb9e-9e99-41e2-a468-83763ad0deb3"
      },
      "source": [
        "## Oppgave\n",
        "\n",
        "Fortsett med programmet fra tidligere. Vi skal nå opprette to nye faner i et Excel ark.\n",
        "- Den ene fanen inneholder selve datasettet vårt. Kastnummer og resultat.\n",
        "- Den andre fanen inneholder deskriptiv statistikk om datasettet vårt.\n",
        "\n",
        "NB! Det vil være enklest om du oppretter en Pandas DataFrame basert på datasettet vårt først."
      ]
    },
    {
      "cell_type": "markdown",
      "id": "5aa3a35b",
      "metadata": {
        "id": "5aa3a35b"
      },
      "source": [
        "## Løsningsforslag oppgave"
      ]
    },
    {
      "cell_type": "code",
      "execution_count": null,
      "id": "19113f6e",
      "metadata": {
        "scrolled": true,
        "id": "19113f6e"
      },
      "outputs": [],
      "source": [
        "import random\n",
        "\n",
        "import pandas as pd\n",
        "\n",
        "def kast_terning(antall_kast):\n",
        "    result_array = []\n",
        "    for i in range(0, antall_kast):\n",
        "        result_array.append(random.randrange(1,7))\n",
        "    return result_array\n",
        "\n",
        "antall_kast = 10\n",
        "\n",
        "terning_dataframe = pd.DataFrame()\n",
        "# For more interesting data, we can repeat our experiment to generate more data\n",
        "antall_forsok = 5\n",
        "for i in range(0, antall_forsok):\n",
        "   dataset = kast_terning(antall_kast)\n",
        "   terning_dataframe[\"Set %s\" % i] = dataset\n",
        "\n",
        "#terning_dataframe = pd.DataFrame(kast_terning(antall_kast)) # Single run only\n",
        "print(type(terning_dataframe))\n",
        "terning_dataframe"
      ]
    },
    {
      "cell_type": "code",
      "execution_count": null,
      "id": "cc13e90d",
      "metadata": {
        "id": "cc13e90d"
      },
      "outputs": [],
      "source": [
        "terning_descriptive = terning_dataframe.describe()\n",
        "terning_descriptive"
      ]
    },
    {
      "cell_type": "code",
      "execution_count": null,
      "id": "feee45a0",
      "metadata": {
        "id": "feee45a0"
      },
      "outputs": [],
      "source": [
        "with pd.ExcelWriter(\"Pythonkurs - Del 3 - Python og excel terningkast.xlsx\") as writer:\n",
        "    terning_dataframe.to_excel(writer, sheet_name='Original data', index=False)\n",
        "    terning_descriptive.to_excel(writer, sheet_name='Descriptive statistics')"
      ]
    },
    {
      "cell_type": "code",
      "execution_count": null,
      "id": "8bca73f1",
      "metadata": {
        "id": "8bca73f1"
      },
      "outputs": [],
      "source": [
        "terning_dataframe.to_excel(\"bare_en_fane.xlsx\")"
      ]
    }
  ],
  "metadata": {
    "kernelspec": {
      "display_name": "Python 3 (ipykernel)",
      "language": "python",
      "name": "python3"
    },
    "language_info": {
      "codemirror_mode": {
        "name": "ipython",
        "version": 3
      },
      "file_extension": ".py",
      "mimetype": "text/x-python",
      "name": "python",
      "nbconvert_exporter": "python",
      "pygments_lexer": "ipython3",
      "version": "3.12.2"
    },
    "colab": {
      "provenance": [],
      "include_colab_link": true
    }
  },
  "nbformat": 4,
  "nbformat_minor": 5
}