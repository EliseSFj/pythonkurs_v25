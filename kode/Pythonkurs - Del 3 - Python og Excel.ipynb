{
  "cells": [
    {
      "cell_type": "markdown",
      "metadata": {
        "id": "view-in-github",
        "colab_type": "text"
      },
      "source": [
        "<a href=\"https://colab.research.google.com/github/kbotnen/pythonkurs_v25/blob/main/kode/Pythonkurs%20-%20Del%203%20-%20Python%20og%20Excel.ipynb\" target=\"_parent\"><img src=\"https://colab.research.google.com/assets/colab-badge.svg\" alt=\"Open In Colab\"/></a>"
      ]
    },
    {
      "cell_type": "markdown",
      "id": "0e5ce91a",
      "metadata": {
        "tags": [],
        "id": "0e5ce91a"
      },
      "source": [
        "# Les inn en Excelfil v.h.a Python\n",
        "\n",
        "Vi starter med å vise hvordan vi kan lese inn en tilfeldig Excelfil."
      ]
    },
    {
      "cell_type": "code",
      "execution_count": null,
      "id": "976a6ae7",
      "metadata": {
        "id": "976a6ae7"
      },
      "outputs": [],
      "source": [
        "import pandas as pd\n",
        "# Remember: 'conda install openpyxl' before importing xlsx\n",
        "\n",
        "# Read all sheets into a dictionary, sheet_name=None results in all sheets being read.\n",
        "all_sheets = pd.read_excel(\"data/ssb/KPI_tabell.xlsx\", sheet_name=None)"
      ]
    },
    {
      "cell_type": "code",
      "execution_count": null,
      "id": "dd10daf9",
      "metadata": {
        "id": "dd10daf9"
      },
      "outputs": [],
      "source": [
        "print(type(all_sheets)) # Verify what datastructure we have.\n",
        "print(all_sheets.keys()) # Let's get the name of the sheets."
      ]
    },
    {
      "cell_type": "code",
      "execution_count": null,
      "id": "ba466a5c",
      "metadata": {
        "id": "ba466a5c"
      },
      "outputs": [],
      "source": [
        "for item in all_sheets.values(): # Let us inspect the results.\n",
        "    print(type(item))\n",
        "    print(item)\n",
        "    print(\"---\")"
      ]
    },
    {
      "cell_type": "markdown",
      "id": "2a53ad76",
      "metadata": {
        "id": "2a53ad76"
      },
      "source": [
        "Vi ser at vi nå har lest inn en excelfil som har to ark i seg. Hvert av de to arkene er represent som en Pandas DataFrame, og er omkapslet av en Dictionary. La oss droppe den overordnede strukturen og få direkte tilgang til hvert av de to arkene."
      ]
    },
    {
      "cell_type": "code",
      "execution_count": null,
      "id": "af060b88",
      "metadata": {
        "id": "af060b88"
      },
      "outputs": [],
      "source": [
        "df_current = all_sheets.get(\"Recent\", \"Not found\")\n",
        "df_history = all_sheets.get(\"History\", \"Not found\")"
      ]
    },
    {
      "cell_type": "code",
      "execution_count": null,
      "id": "cd703dfa",
      "metadata": {
        "id": "cd703dfa"
      },
      "outputs": [],
      "source": [
        "df_current"
      ]
    },
    {
      "cell_type": "code",
      "execution_count": null,
      "id": "980b3927",
      "metadata": {
        "id": "980b3927"
      },
      "outputs": [],
      "source": [
        "df_history"
      ]
    },
    {
      "cell_type": "code",
      "execution_count": null,
      "id": "4f2db91b",
      "metadata": {
        "scrolled": true,
        "id": "4f2db91b"
      },
      "outputs": [],
      "source": [
        "df_history.rename(columns={\"Unnamed: 0\":\"Årstall\"}, inplace=True)"
      ]
    },
    {
      "cell_type": "code",
      "execution_count": null,
      "id": "6c7be74f",
      "metadata": {
        "id": "6c7be74f"
      },
      "outputs": [],
      "source": [
        "df_history"
      ]
    },
    {
      "cell_type": "markdown",
      "id": "e162170b",
      "metadata": {
        "id": "e162170b"
      },
      "source": [
        "Siden dette er ferdigtygget materiale så finner vi et annet datasett som vi kan jobbe med."
      ]
    },
    {
      "cell_type": "markdown",
      "id": "338de9ee",
      "metadata": {
        "id": "338de9ee"
      },
      "source": [
        "# Enkel statistikk og pivot"
      ]
    },
    {
      "cell_type": "code",
      "source": [
        "%pip install opendatasets"
      ],
      "metadata": {
        "id": "S1mkGEHW9_B4"
      },
      "id": "S1mkGEHW9_B4",
      "execution_count": null,
      "outputs": []
    },
    {
      "cell_type": "code",
      "execution_count": null,
      "id": "8065e1c6",
      "metadata": {
        "id": "8065e1c6"
      },
      "outputs": [],
      "source": [
        "pd.set_option('display.float_format', lambda x: '%.3f' % x)\n",
        "\n",
        "import opendatasets as od # % pip install opendatasets\n",
        "\n",
        "od.download(\"https://www.kaggle.com/datasets/eringill/2023-american-vehicle-prices/metadata\") # Prereq: Prepare your API-user/pw on kaggle.com"
      ]
    },
    {
      "cell_type": "code",
      "execution_count": null,
      "id": "73c681e6",
      "metadata": {
        "id": "73c681e6"
      },
      "outputs": [],
      "source": [
        "bilpriser = pd.read_csv('2023-american-vehicle-prices/prices_clean.csv')\n",
        "bilpriser"
      ]
    },
    {
      "cell_type": "code",
      "execution_count": null,
      "id": "23ed4602",
      "metadata": {
        "id": "23ed4602"
      },
      "outputs": [],
      "source": [
        "bilpriser.groupby(\"make\").price.min()"
      ]
    },
    {
      "cell_type": "code",
      "execution_count": null,
      "id": "c5f58d2a",
      "metadata": {
        "id": "c5f58d2a"
      },
      "outputs": [],
      "source": [
        "bilpriser.groupby(\"make\").price.max()"
      ]
    },
    {
      "cell_type": "code",
      "execution_count": null,
      "id": "9e024e87",
      "metadata": {
        "id": "9e024e87"
      },
      "outputs": [],
      "source": [
        "bilpriser.groupby(\"make\").price.mean()"
      ]
    },
    {
      "cell_type": "code",
      "execution_count": null,
      "id": "09b04247",
      "metadata": {
        "id": "09b04247"
      },
      "outputs": [],
      "source": [
        "bilpriser.groupby(\"make\").describe()"
      ]
    },
    {
      "cell_type": "markdown",
      "id": "0ed44d63",
      "metadata": {
        "id": "0ed44d63"
      },
      "source": [
        "En av funksjonene som brukes ofte i Excel er pivottabeller. Selv om vi på en måte har gjort det samme i eksemplene over ved hjelp av groupby() så har Pandas en egen pivot_table() metode vi kan se på og."
      ]
    },
    {
      "cell_type": "code",
      "execution_count": null,
      "id": "53562efa",
      "metadata": {
        "id": "53562efa"
      },
      "outputs": [],
      "source": [
        "# Aggregate on \"Symbol\". The default aggregation function is 'mean'.\n",
        "# https://pandas.pydata.org/pandas-docs/stable/reference/api/pandas.DataFrame.pivot_table.html\n",
        "pivot = pd.pivot_table(data=bilpriser, index='make', values=[\"price\"])\n",
        "pivot"
      ]
    },
    {
      "cell_type": "code",
      "execution_count": null,
      "id": "43ab9e76",
      "metadata": {
        "id": "43ab9e76"
      },
      "outputs": [],
      "source": [
        "# Aggreagate the sum instead of the default mean.\n",
        "# https://pandas.pydata.org/pandas-docs/stable/reference/api/pandas.DataFrame.pivot_table.html\n",
        "pivot = pd.pivot_table(data=bilpriser, index='make', values=[\"price\"], aggfunc='sum')\n",
        "pivot"
      ]
    },
    {
      "cell_type": "code",
      "execution_count": null,
      "id": "d4a85419",
      "metadata": {
        "id": "d4a85419"
      },
      "outputs": [],
      "source": [
        "# Use multiple aggregate functions.\n",
        "# https://pandas.pydata.org/pandas-docs/stable/reference/api/pandas.DataFrame.pivot_table.html\n",
        "pivot = pd.pivot_table(data=bilpriser, index='make', values=[\"price\"], aggfunc=['mean', 'sum'])\n",
        "pivot"
      ]
    },
    {
      "cell_type": "code",
      "execution_count": null,
      "id": "64de2cad",
      "metadata": {
        "id": "64de2cad"
      },
      "outputs": [],
      "source": [
        "# Different aggregate functions for each column.\n",
        "# https://pandas.pydata.org/pandas-docs/stable/reference/api/pandas.DataFrame.pivot_table.html\n",
        "pivot = pd.pivot_table(data=bilpriser, index='make', values=[\"price\", \"year\"], aggfunc={\"price\": 'mean', \"year\": 'count'})\n",
        "pivot"
      ]
    },
    {
      "cell_type": "code",
      "execution_count": null,
      "id": "720a3c61",
      "metadata": {
        "id": "720a3c61"
      },
      "outputs": [],
      "source": [
        "# Adding totals to our pivot.\n",
        "# https://pandas.pydata.org/pandas-docs/stable/reference/api/pandas.DataFrame.pivot_table.html\n",
        "pivot = pd.pivot_table(data=bilpriser, index='make', values=[\"price\", \"year\"], aggfunc={\"price\": 'mean', \"year\": 'count'}, margins=True)\n",
        "pivot"
      ]
    },
    {
      "cell_type": "code",
      "execution_count": null,
      "id": "8f0841ad",
      "metadata": {
        "scrolled": true,
        "id": "8f0841ad"
      },
      "outputs": [],
      "source": [
        "# Sort our result by chaining the sort_values().\n",
        "# https://pandas.pydata.org/pandas-docs/stable/reference/api/pandas.DataFrame.pivot_table.html\n",
        "# https://pandas.pydata.org/pandas-docs/stable/reference/api/pandas.DataFrame.sort_values.html\n",
        "pivot = pd.pivot_table(data=bilpriser, index='make', values=[\"price\", \"year\"], aggfunc={\"price\": 'mean', \"year\": 'count'}, margins=True).sort_values(by=\"year\")\n",
        "pivot"
      ]
    },
    {
      "cell_type": "code",
      "execution_count": null,
      "id": "82aadeb2",
      "metadata": {
        "id": "82aadeb2"
      },
      "outputs": [],
      "source": [
        "# This will fail in Google Colab due to lack of copy / paste mechanism.\n",
        "pivot.to_clipboard(excel=True) # We can copy our dataframe to the clipboard!"
      ]
    },
    {
      "cell_type": "markdown",
      "id": "c823cbf7",
      "metadata": {
        "id": "c823cbf7"
      },
      "source": [
        "# Skrive til en Excelfil v.h.a Python\n",
        "\n",
        "Vi har lest inn en fil, sett litt på innholdet og nå gjenstår det kun å skrive innhold tilbake til filen."
      ]
    },
    {
      "cell_type": "code",
      "execution_count": null,
      "id": "36c0e4a1",
      "metadata": {
        "id": "36c0e4a1"
      },
      "outputs": [],
      "source": [
        "bilpriser.to_excel(\"Pythonkurs - Del 3 - Python og excel.xlsx\", sheet_name='Bilpriser')"
      ]
    },
    {
      "cell_type": "markdown",
      "id": "4218f07a",
      "metadata": {
        "id": "4218f07a"
      },
      "source": [
        "Oops. Grunnet en begrensning i Excel får vi ikke skrevet ut alle dataene våre til Excel format: [https://support.microsoft.com/en-us/office/excel-specifications-and-limits-1672b34d-7043-467e-8e27-269d656771c3](https://support.microsoft.com/en-us/office/excel-specifications-and-limits-1672b34d-7043-467e-8e27-269d656771c3)\n",
        "\n",
        "La oss prøve å skrive deler av dataene våre."
      ]
    },
    {
      "cell_type": "code",
      "execution_count": null,
      "id": "a427c9fc",
      "metadata": {
        "id": "a427c9fc"
      },
      "outputs": [],
      "source": [
        "# Write our pivots to Excel.\n",
        "original_pivot = pivot.copy(deep=True)\n",
        "pivot.to_excel(\"Pythonkurs - Del 3 - Python og excel.xlsx\", sheet_name='Bilpriser pivot')"
      ]
    },
    {
      "cell_type": "code",
      "execution_count": null,
      "id": "d202bdab",
      "metadata": {
        "id": "d202bdab"
      },
      "outputs": [],
      "source": [
        "# Write all stockdata to a format without limitations.\n",
        "bilpriser.to_csv(\"Pythonkurs - Del 3 - Python og excel.csv\")"
      ]
    },
    {
      "cell_type": "code",
      "execution_count": null,
      "id": "79ba90c1",
      "metadata": {
        "id": "79ba90c1"
      },
      "outputs": [],
      "source": [
        "# Add a new column with new data.\n",
        "pivot[\"Mine prisforventninger 2024\"] = ((5 * pivot[\"price\"])/100) + pivot[\"price\"]\n",
        "pivot"
      ]
    },
    {
      "cell_type": "code",
      "execution_count": null,
      "id": "b659566b",
      "metadata": {
        "id": "b659566b"
      },
      "outputs": [],
      "source": [
        "# Write our updated DataFrame to Excel, we want it as a new Sheet.\n",
        "pivot.to_excel(\"Pythonkurs - Del 3 - Python og excel.xlsx\", sheet_name='Bilpriser pivot forventninger')"
      ]
    },
    {
      "cell_type": "markdown",
      "id": "1b5e7868",
      "metadata": {
        "id": "1b5e7868"
      },
      "source": [
        "Vi ser at vi ikke har fått et nytt faneark, men overskrevet det eksisterende. For å få lagt til et nytt faneark må vi trikse litt."
      ]
    },
    {
      "cell_type": "code",
      "execution_count": null,
      "id": "708c44a3",
      "metadata": {
        "id": "708c44a3"
      },
      "outputs": [],
      "source": [
        "with pd.ExcelWriter(\"Pythonkurs - Del 3 - Python og excel.xlsx\") as writer:\n",
        "    original_pivot.to_excel(writer, sheet_name='Bilpriser pivot')\n",
        "    pivot.to_excel(writer, sheet_name='Bilpriser pivot forventninger')"
      ]
    },
    {
      "cell_type": "markdown",
      "id": "2ed8550d",
      "metadata": {
        "id": "2ed8550d"
      },
      "source": [
        "Da har vi sett på hvordan vi kan lese, manipulere og skrive Excelfiler v.h.a Python."
      ]
    },
    {
      "cell_type": "markdown",
      "id": "c49bfb9e-9e99-41e2-a468-83763ad0deb3",
      "metadata": {
        "id": "c49bfb9e-9e99-41e2-a468-83763ad0deb3"
      },
      "source": [
        "## Oppgave\n",
        "\n",
        "Fortsett med programmet fra tidligere. Vi skal nå opprette to nye faner i et Excel ark.\n",
        "- Den ene fanen inneholder selve datasettet vårt. Kastnummer og resultat.\n",
        "- Den andre fanen inneholder deskriptiv statistikk om datasettet vårt.\n",
        "\n",
        "NB! Det vil være enklest om du oppretter en Pandas DataFrame basert på datasettet vårt først."
      ]
    }
  ],
  "metadata": {
    "kernelspec": {
      "display_name": "Python 3 (ipykernel)",
      "language": "python",
      "name": "python3"
    },
    "language_info": {
      "codemirror_mode": {
        "name": "ipython",
        "version": 3
      },
      "file_extension": ".py",
      "mimetype": "text/x-python",
      "name": "python",
      "nbconvert_exporter": "python",
      "pygments_lexer": "ipython3",
      "version": "3.12.2"
    },
    "colab": {
      "provenance": [],
      "include_colab_link": true
    }
  },
  "nbformat": 4,
  "nbformat_minor": 5
}