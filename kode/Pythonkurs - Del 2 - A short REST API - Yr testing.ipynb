{
 "cells": [
  {
   "cell_type": "markdown",
   "metadata": {
    "colab_type": "text",
    "id": "view-in-github"
   },
   "source": [
    "<a href=\"https://colab.research.google.com/github/kbotnen/pythonkurs_v25/blob/main/kode/Pythonkurs%20-%20Del%202%20-%20A%20short%20REST%20API%20-%20Yr%20testing.ipynb\" target=\"_parent\"><img src=\"https://colab.research.google.com/assets/colab-badge.svg\" alt=\"Open In Colab\"/></a>"
   ]
  },
  {
   "cell_type": "code",
   "execution_count": null,
   "metadata": {
    "id": "ke8R4uZG2j4F"
   },
   "outputs": [],
   "source": [
    "import requests\n",
    "import json\n",
    "\n",
    "import configparser"
   ]
  },
  {
   "cell_type": "code",
   "execution_count": null,
   "metadata": {},
   "outputs": [],
   "source": [
    "def read_config(section):\n",
    "    config = configparser.ConfigParser()\n",
    "    config.read('config.ini')\n",
    "    if section in config:\n",
    "        config_results = config[section]\n",
    "    return config_results\n",
    "\n",
    "secrets = read_config('yr')\n",
    "\n",
    "print(secrets['user_agent'])\n",
    "print(secrets['from'])"
   ]
  },
  {
   "cell_type": "code",
   "execution_count": null,
   "metadata": {
    "id": "w2oPK5Dk2j4G"
   },
   "outputs": [],
   "source": [
    "# https://developer.yr.no/doc/locationforecast/HowTO/\n",
    "headers = {\n",
    "    'User-agent': secrets['user_agent'],\n",
    "    'From': secrets['from']\n",
    "}\n",
    "\n",
    "api_url = \"https://api.met.no/weatherapi/locationforecast/2.0/compact\"\n",
    "latitude = \"60.392\" # http://www.geonames.org/\n",
    "longitude = \"5.324\" # http://www.geonames.org/\n",
    "\n",
    "response = requests.get(api_url, headers=headers, params={\"lat\":latitude, \"lon\":longitude})\n",
    "\n",
    "# https://developer.yr.no/doc/ForecastJSON/\n",
    "json_response = response.json()\n",
    "\n",
    "#print(json_response)\n",
    "\n",
    "\n",
    "data = json_response['properties']['timeseries']\n",
    "\n",
    "new_dict = dict(dict(data[0])['data'])\n",
    "print(new_dict['instant']['details']['air_temperature'])\n"
   ]
  },
  {
   "cell_type": "code",
   "execution_count": null,
   "metadata": {
    "id": "M35AoIZ52j4H"
   },
   "outputs": [],
   "source": []
  }
 ],
 "metadata": {
  "colab": {
   "include_colab_link": true,
   "provenance": []
  },
  "kernelspec": {
   "display_name": "Python 3 (ipykernel)",
   "language": "python",
   "name": "python3"
  },
  "language_info": {
   "codemirror_mode": {
    "name": "ipython",
    "version": 3
   },
   "file_extension": ".py",
   "mimetype": "text/x-python",
   "name": "python",
   "nbconvert_exporter": "python",
   "pygments_lexer": "ipython3",
   "version": "3.12.2"
  }
 },
 "nbformat": 4,
 "nbformat_minor": 4
}
