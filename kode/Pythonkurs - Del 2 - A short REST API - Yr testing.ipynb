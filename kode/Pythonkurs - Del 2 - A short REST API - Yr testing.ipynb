{
 "cells": [
  {
   "cell_type": "code",
   "execution_count": 2,
   "metadata": {},
   "outputs": [],
   "source": [
    "import requests\n",
    "import json"
   ]
  },
  {
   "cell_type": "code",
   "execution_count": 5,
   "metadata": {},
   "outputs": [
    {
     "name": "stdout",
     "output_type": "stream",
     "text": [
      "10.3\n"
     ]
    }
   ],
   "source": [
    "# https://developer.yr.no/doc/locationforecast/HowTO/\n",
    "headers = {\n",
    "    'User-agent': 'visualisere.no',\n",
    "    'From': 'api@botnen.org'\n",
    "}\n",
    "\n",
    "api_url = \"https://api.met.no/weatherapi/locationforecast/2.0/compact\"\n",
    "latitude = \"60.392\" # http://www.geonames.org/\n",
    "longitude = \"5.324\" # http://www.geonames.org/\n",
    "\n",
    "response = requests.get(api_url, headers=headers, params={\"lat\":latitude, \"lon\":longitude})\n",
    "\n",
    "# https://developer.yr.no/doc/ForecastJSON/\n",
    "json_response = response.json()\n",
    "\n",
    "#print(json_response)\n",
    "\n",
    "\n",
    "data = json_response['properties']['timeseries']\n",
    "\n",
    "new_dict = dict(dict(data[0])['data'])\n",
    "print(new_dict['instant']['details']['air_temperature'])\n"
   ]
  },
  {
   "cell_type": "code",
   "execution_count": null,
   "metadata": {},
   "outputs": [],
   "source": []
  }
 ],
 "metadata": {
  "kernelspec": {
   "display_name": "Python 3 (ipykernel)",
   "language": "python",
   "name": "python3"
  },
  "language_info": {
   "codemirror_mode": {
    "name": "ipython",
    "version": 3
   },
   "file_extension": ".py",
   "mimetype": "text/x-python",
   "name": "python",
   "nbconvert_exporter": "python",
   "pygments_lexer": "ipython3",
   "version": "3.12.2"
  }
 },
 "nbformat": 4,
 "nbformat_minor": 4
}
