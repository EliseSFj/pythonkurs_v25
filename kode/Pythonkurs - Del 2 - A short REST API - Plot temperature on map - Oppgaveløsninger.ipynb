{
  "cells": [
    {
      "cell_type": "markdown",
      "metadata": {
        "id": "view-in-github",
        "colab_type": "text"
      },
      "source": [
        "<a href=\"https://colab.research.google.com/github/kbotnen/pythonkurs_v25/blob/main/kode/Pythonkurs%20-%20Del%202%20-%20A%20short%20REST%20API%20-%20Plot%20temperature%20on%20map%20-%20Oppgavel%C3%B8sninger.ipynb\" target=\"_parent\"><img src=\"https://colab.research.google.com/assets/colab-badge.svg\" alt=\"Open In Colab\"/></a>"
      ]
    },
    {
      "cell_type": "code",
      "execution_count": null,
      "metadata": {
        "id": "bcbOgtgIzXC-"
      },
      "outputs": [],
      "source": [
        "%pip install requests_cache"
      ]
    },
    {
      "cell_type": "code",
      "execution_count": null,
      "metadata": {
        "id": "dDZRjHmQzXC_"
      },
      "outputs": [],
      "source": [
        "import requests\n",
        "import requests_cache\n",
        "import json\n",
        "import folium"
      ]
    },
    {
      "cell_type": "code",
      "execution_count": null,
      "metadata": {
        "id": "BPjEL3gqzXC_"
      },
      "outputs": [],
      "source": [
        "requests_cache.install_cache(cache_name='apitest_cache', backend='sqlite', expire_after=720)"
      ]
    },
    {
      "cell_type": "code",
      "execution_count": null,
      "metadata": {
        "id": "adwHw9F8zXC_"
      },
      "outputs": [],
      "source": [
        "# https://developer.yr.no/doc/locationforecast/HowTO/\n",
        "# https://api.vinmonopolet.no/api-details#api=stores&operation=GET_DETAILS\n",
        "\n",
        "yr_headers = {\n",
        "    'User-agent': 'visualisere.no',\n",
        "    'From': 'api@botnen.org'\n",
        "}\n",
        "yr_api_url = \"https://api.met.no/weatherapi/locationforecast/2.0/compact\"\n",
        "\n",
        "vin_headers = {\n",
        "    'Ocp-Apim-Subscription-Key': '6571c1f8bc01483fad19545c7657ed39'\n",
        "}\n",
        "\n",
        "vin_api_url = \"https://apis.vinmonopolet.no/stores/v0/details\"\n",
        "\n",
        "def vin_get_stores(vin_city):\n",
        "    result_array = []\n",
        "    response = requests.get(vin_api_url, headers=vin_headers)\n",
        "    json_response = response.json()\n",
        "\n",
        "    for store in json_response:\n",
        "        address = dict(store['address'])\n",
        "        #print(address['gpsCoord'])\n",
        "        if(address['city'] == vin_city):\n",
        "            result_array.append(address['gpsCoord'])\n",
        "    return result_array\n",
        "\n",
        "def yr_get_temperature(yr_lat, yr_lon):\n",
        "    response = requests.get(yr_api_url, headers=yr_headers, params={\"lat\":yr_lat, \"lon\":yr_lon})\n",
        "\n",
        "    # https://developer.yr.no/doc/ForecastJSON/\n",
        "    json_response = response.json()\n",
        "    data = json_response['properties']['timeseries']\n",
        "\n",
        "    new_dict = dict(dict(data[0])['data'])\n",
        "    return (new_dict['instant']['details']['air_temperature'])\n",
        "\n",
        "def plot_folium(markers_list, desc_list):\n",
        "    map = folium.Map(location=[60.39, 5.32], zoom_start=4, control_scale=True)\n",
        "\n",
        "    i = 0\n",
        "    for marker in markers_list:\n",
        "        icon_lat, icon_lon = marker.split(';')\n",
        "        if desc_list[i] > 8:\n",
        "            folium.Marker(\n",
        "                location=[icon_lat, icon_lon],\n",
        "                popup=f\"{desc_list[i]} \\N{DEGREE CELSIUS}\",\n",
        "                icon=folium.Icon(color=\"red\", icon=\"ok-sign\"),\n",
        "            ).add_to(map)\n",
        "        elif desc_list[i] > 7:\n",
        "            folium.Marker(\n",
        "                location=[icon_lat, icon_lon],\n",
        "                popup=f\"{desc_list[i]} \\N{DEGREE CELSIUS}\",\n",
        "                icon=folium.Icon(color=\"green\", icon=\"ok-sign\"),\n",
        "            ).add_to(map)\n",
        "        elif desc_list[i] > 6.5:\n",
        "            folium.Marker(\n",
        "                location=[icon_lat, icon_lon],\n",
        "                popup=f\"{desc_list[i]} \\N{DEGREE CELSIUS}\",\n",
        "                icon=folium.Icon(color=\"blue\", icon=\"ok-sign\"),\n",
        "            ).add_to(map)\n",
        "        else:\n",
        "            folium.Marker(\n",
        "                location=[icon_lat, icon_lon],\n",
        "                popup=f\"{desc_list[i]} \\N{DEGREE CELSIUS}\",\n",
        "                icon=folium.Icon(color=\"black\", icon=\"ok-sign\"),\n",
        "            ).add_to(map)\n",
        "        i += 1\n",
        "    return map\n",
        "\n",
        "stores_list = vin_get_stores(\"Bergen\")\n",
        "temperature_list = []\n",
        "\n",
        "if len(stores_list) > 0:\n",
        "    for store in stores_list:\n",
        "        lat, lon = store.split(';')\n",
        "        temperature = yr_get_temperature(lat, lon)\n",
        "        temperature_list.append(temperature)\n",
        "\n",
        "    print(stores_list)\n",
        "    print(temperature_list)\n",
        "    map = plot_folium(stores_list, temperature_list)"
      ]
    },
    {
      "cell_type": "code",
      "execution_count": null,
      "metadata": {
        "id": "hnlrZnE6zXDA"
      },
      "outputs": [],
      "source": [
        "map"
      ]
    }
  ],
  "metadata": {
    "kernelspec": {
      "display_name": "Python 3 (ipykernel)",
      "language": "python",
      "name": "python3"
    },
    "language_info": {
      "codemirror_mode": {
        "name": "ipython",
        "version": 3
      },
      "file_extension": ".py",
      "mimetype": "text/x-python",
      "name": "python",
      "nbconvert_exporter": "python",
      "pygments_lexer": "ipython3",
      "version": "3.12.2"
    },
    "colab": {
      "provenance": [],
      "include_colab_link": true
    }
  },
  "nbformat": 4,
  "nbformat_minor": 0
}