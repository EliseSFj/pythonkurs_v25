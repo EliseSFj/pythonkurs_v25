{
  "cells": [
    {
      "cell_type": "markdown",
      "metadata": {
        "id": "view-in-github",
        "colab_type": "text"
      },
      "source": [
        "<a href=\"https://colab.research.google.com/github/kbotnen/pythonkurs_v25/blob/main/kode/Pythonkurs%20-%20Del%202%20-%20A%20short%20REST%20API%20-%20Intro%20to%20requests.ipynb\" target=\"_parent\"><img src=\"https://colab.research.google.com/assets/colab-badge.svg\" alt=\"Open In Colab\"/></a>"
      ]
    },
    {
      "cell_type": "markdown",
      "metadata": {
        "id": "Cgv3e4rUwoGE"
      },
      "source": [
        "# Introduction to Requests\n",
        "## HTTP Requests with Python"
      ]
    },
    {
      "cell_type": "code",
      "execution_count": null,
      "metadata": {
        "id": "xOlpjqrkwoGH"
      },
      "outputs": [],
      "source": [
        "import requests\n",
        "\n",
        "# Initiate the requests object.\n",
        "response = requests.get(\"https://visualisere.no\")\n",
        "\n",
        "\n",
        "# The response object has a lot of information.\n",
        "\n",
        "print(f\"The URL you requested is {response.url}\")\n",
        "\n",
        "print(f\"The response status is {response.status_code}\")\n",
        "\n",
        "print(f\"This requests took {response.elapsed.microseconds} microseconds.\")\n",
        "\n",
        "if response.is_redirect:\n",
        "    print(\"Redirect\")\n",
        "else:\n",
        "    print(\"Not redirect\")"
      ]
    },
    {
      "cell_type": "code",
      "execution_count": null,
      "metadata": {
        "id": "ehATRIPZwoGH"
      },
      "outputs": [],
      "source": [
        "# We can retrieve more metadata.\n",
        "print(f'Response headers:\\n{response.headers}\\n')\n",
        "\n",
        "print(f'Response cookies:\\n{response.cookies}\\n')\n",
        "\n",
        "print(f\"Content type is {response.headers['content-type']}.\")"
      ]
    },
    {
      "cell_type": "code",
      "execution_count": null,
      "metadata": {
        "id": "FcZNli3PwoGI"
      },
      "outputs": [],
      "source": [
        "# And ofcourse also the actual content (or in this exapmle, the first 1.000 characters.\n",
        "response.text[:1000]"
      ]
    },
    {
      "cell_type": "code",
      "execution_count": null,
      "metadata": {
        "id": "9y4jZUE7woGI"
      },
      "outputs": [],
      "source": [
        "# We can add parameters to the URL. Useful when searching on webpage to name one example.\n",
        "url = \"https://api.github.com/search/repositories\"\n",
        "params = {\"q\": \"python+pandas\"}\n",
        "response = requests.get(url, params=params)\n",
        "print(f\"The response status is {response.status_code}\")"
      ]
    },
    {
      "cell_type": "code",
      "execution_count": null,
      "metadata": {
        "id": "ccg1KN9rwoGI"
      },
      "outputs": [],
      "source": [
        "# And the content.\n",
        "response.text[:1000]"
      ]
    },
    {
      "cell_type": "markdown",
      "metadata": {
        "id": "hshWHqQNwoGI"
      },
      "source": [
        "# Exploring GET Requests\n",
        "GET is one of the most frequently used request types, and it retrieves data fro a server. The only required parameter is the URL, but several other optional parameters exists."
      ]
    },
    {
      "cell_type": "code",
      "execution_count": null,
      "metadata": {
        "id": "SzwpfSNYwoGI"
      },
      "outputs": [],
      "source": [
        "# Basic request that prints the status code (200 = 0K), and the first 1.000 lines of the response.\n",
        "import requests\n",
        "\n",
        "URL = \"https://www.reddit.com\"\n",
        "response = requests.get(URL)\n",
        "print(f\"The response status is {response.status_code}\")\n",
        "\n",
        "#response.text[:1000]"
      ]
    },
    {
      "cell_type": "code",
      "execution_count": null,
      "metadata": {
        "id": "meph-NthwoGJ"
      },
      "outputs": [],
      "source": [
        "# We can customize a URLs query string, i.e if we want to do a search. In requests we can use the params keyword argument which takes a dictionary of strings.\n",
        "url = \"https://www.google.com/maps/search/?api=1\"\n",
        "\n",
        "query = \"Universitetet i Bergen/\"\n",
        "params = {\"query\": query}\n",
        "# Make a GET request:\n",
        "response = requests.get(url=url, params=params, allow_redirects=False)\n",
        "# Print URL string used in the request above:\n",
        "print(f\"Requested URL: {response.url}\")"
      ]
    },
    {
      "cell_type": "code",
      "execution_count": null,
      "metadata": {
        "id": "7BQ-s3C-woGJ"
      },
      "outputs": [],
      "source": [
        "# We can use multiple arguments with the params parameter.\n",
        "url = \"https://crawler-test.com/urls/parameter_1_2\"\n",
        "params = {\"parameter_x\": \"x\", \"parameter_1\": \"foo\"}\n",
        "# The GET request:\n",
        "response = requests.get(url=url, params=params)\n",
        "print(f\"The response status is {response.status_code}\")\n",
        "\n",
        "response.url"
      ]
    },
    {
      "cell_type": "code",
      "execution_count": null,
      "metadata": {
        "id": "GUGhNtmMwoGJ"
      },
      "outputs": [],
      "source": [
        "# We can disallow redirects, first show with redirects allowed.\n",
        "\n",
        "# URL reached after redirects:\n",
        "url = \"https://httpbin.org/redirect/3\"\n",
        "# The GET request:\n",
        "response = requests.get(url=url)\n",
        "print(f\"The response status is {response.status_code}\")\n",
        "\n",
        "response.history"
      ]
    },
    {
      "cell_type": "code",
      "execution_count": null,
      "metadata": {
        "id": "NPfvH-oWwoGJ"
      },
      "outputs": [],
      "source": [
        "# We can disallow redirects, now show with redirects disallowed.\n",
        "# URL reached after redirects:\n",
        "url = \"http://httpbin.org/redirect/3\"\n",
        "# The GET request:\n",
        "response = requests.get(url=url, allow_redirects=False)\n",
        "print(f\"The response status is {response.status_code}\")"
      ]
    },
    {
      "cell_type": "code",
      "execution_count": null,
      "metadata": {
        "id": "vezSw7xpwoGJ"
      },
      "outputs": [],
      "source": [
        "# When using requests library we can exchang e more than just HTTP request or response.\n",
        "url = 'https://httpbin.org/get'\n",
        "headers = {'Content-Type': 'text/html'}\n",
        "# The GET request:\n",
        "response = requests.get(url=url, headers=headers)\n",
        "print(f\"The response status is {response.status_code}\\n\")\n",
        "print(response.content)"
      ]
    },
    {
      "cell_type": "code",
      "execution_count": null,
      "metadata": {
        "id": "G46chXqpwoGJ"
      },
      "outputs": [],
      "source": [
        "# Verift the content type by converting the response body to JSON.\n",
        "try:\n",
        "    print(response.json())\n",
        "except:\n",
        "    print('Response is not JSON')"
      ]
    },
    {
      "cell_type": "code",
      "execution_count": null,
      "metadata": {
        "id": "YM34Bpp7woGJ"
      },
      "outputs": [],
      "source": [
        "# Basic authentication: When we need to access exclusive content. Deny.\n",
        "\n",
        "url = \"https://postman-echo.com/basic-auth\"\n",
        "# The GET request:\n",
        "response = requests.get(url=url)\n",
        "print(f\"The response status is {response.status_code}\")"
      ]
    },
    {
      "cell_type": "code",
      "execution_count": null,
      "metadata": {
        "id": "77_5GjtswoGK"
      },
      "outputs": [],
      "source": [
        "# Basic authentication When we need to access exclusive content. Allow.\n",
        "url = \"https://postman-echo.com/basic-auth\"\n",
        "# Authentication credentials:\n",
        "username = \"postman\"\n",
        "password = \"password\"\n",
        "# The GET request:\n",
        "response = requests.get(url=url, auth=(username, password))\n",
        "print(f\"The response status is {response.status_code}\")"
      ]
    },
    {
      "cell_type": "code",
      "execution_count": null,
      "metadata": {
        "id": "pkGMxGxrwoGK"
      },
      "outputs": [],
      "source": [
        "# Basic authentication When we need to access exclusive content. Allow, and see the response.\n",
        "try:\n",
        "    print(response.json())\n",
        "except:\n",
        "    print('Response is not JSON')"
      ]
    },
    {
      "cell_type": "code",
      "execution_count": null,
      "metadata": {
        "id": "zKJCAsqfwoGK"
      },
      "outputs": [],
      "source": [
        "# Authorization Header: When we dont have username+password, and want to use an access token instead.\n",
        "url = \"https://postman-echo.com/basic-auth\"\n",
        "headers = {\"Authorization\" : \"Basic cG9zdG1hbjpwYXNzd29yZA==\"}\n",
        "# The GET request:\n",
        "response = requests.get(url=url, headers=headers)\n",
        "print(f\"The response status is {response.status_code}\\n\")\n",
        "try:\n",
        "    print(f'Response JSON:\\n{response.json()}')\n",
        "except:\n",
        "    print('Response is not JSON')"
      ]
    },
    {
      "cell_type": "code",
      "execution_count": null,
      "metadata": {
        "id": "Pt-mbkuewoGK"
      },
      "outputs": [],
      "source": [
        "# Detour: Decoding a base64 string.\n",
        "import base64\n",
        "\n",
        "decoded_string = base64.b64decode(\"cG9zdG1hbjpwYXNzd29yZA==\")\n",
        "print(f\"The decoded_string is: {decoded_string}\")\n",
        "\n",
        "encoded_string = base64.b64encode(b\"postman:password\")\n",
        "\n",
        "print(f\"The encoded_string is: {encoded_string}\")"
      ]
    },
    {
      "cell_type": "code",
      "execution_count": null,
      "metadata": {
        "id": "WwfJfc5RwoGK"
      },
      "outputs": [],
      "source": [
        "# Timeout 2 sec.\n",
        "url = \"https://www.reddit.com\"\n",
        "response = requests.get(url, timeout=2)\n",
        "print(f\"The response status is {response.status_code}\")"
      ]
    },
    {
      "cell_type": "code",
      "execution_count": null,
      "metadata": {
        "id": "EXMNVCNvwoGK"
      },
      "outputs": [],
      "source": [
        "# Timeou very short.\n",
        "url = \"https://www.reddit.com\"\n",
        "timeout = 0.01\n",
        "try:\n",
        "    response = requests.get(url, timeout=timeout)\n",
        "    print(f\"The response status is {response.status_code}\")\n",
        "except (requests.exceptions.ConnectTimeout, requests.exceptions.ReadTimeout) as e:\n",
        "    print(f\"No response has been received within {timeout} seconds:\\n{e}\")"
      ]
    },
    {
      "cell_type": "markdown",
      "metadata": {
        "id": "XqrrH8ORwoGK"
      },
      "source": [
        "# Diving into HTTP methods.\n",
        "Let us get to know the other methods:\n",
        "* POST\n",
        "* PUT\n",
        "* PATCH\n",
        "* DELETE\n",
        "\n",
        "A HTTP request is initiated by a client to a server to exhange content and information. The most common HTTP methods (POST, GET, PUT, PATCH and DELETE) correspond to the CRUD (CREATE, READ, UPATE and DELETE) operations that are typicale performed on databases."
      ]
    },
    {
      "cell_type": "code",
      "execution_count": null,
      "metadata": {
        "id": "YLB4lUVEwoGK"
      },
      "outputs": [],
      "source": [
        "# The POST method is used to post data, such as files or forms on the web. Essentially the POST method enables the creation of new resources. A successful POST request will typically return a status code of 201.\n",
        "\n",
        "import requests\n",
        "\n",
        "url = \"https://jsonplaceholder.typicode.com/posts\"\n",
        "data = {\"title\" : \"Sample POST request\", \"body\" : \"How to make a POST request\"}\n",
        "response = requests.post(url=url, data=data)\n",
        "print(f\"The response status is {response.status_code}\\n\")"
      ]
    },
    {
      "cell_type": "code",
      "execution_count": null,
      "metadata": {
        "id": "3CdY6MTFwoGK"
      },
      "outputs": [],
      "source": [
        "try:\n",
        "    print(response.json())\n",
        "except:\n",
        "    print('Response is not JSON')"
      ]
    },
    {
      "cell_type": "code",
      "execution_count": null,
      "metadata": {
        "id": "R6c4N0I_woGK"
      },
      "outputs": [],
      "source": [
        "'''\n",
        "The PUT method resembles the POST method because both involev sending data to the erver. When making a PUT request to a URL that points to an existing resource, the server update that resource with the data sent in the request body. If the targeted resource does not exist, the server may or may not create the new resource, depending on the configuration.\n",
        "The status code of a successful PUT request is 200, however we migh encounter a few more:\n",
        "200: An existing resource has been modified.\n",
        "201: A new resource has been created.\n",
        "500x: The resource cannot be created or modified.\n",
        "'''\n",
        "# When making PUT request we need to remember a few key points. PUT is never cached, it does not remain in browser history, it cannot be bookmarked, and it has no retrictions on data length.\n",
        "\n",
        "url = \"http://httpbin.org/put\"\n",
        "data = {\"title\" : \"Sample PUT request\", \"body\" : \"How to make a PUT request\"}\n",
        "response = requests.put(url=url, data=data)\n",
        "print(f\"The response status is {response.status_code}\\n\")"
      ]
    },
    {
      "cell_type": "code",
      "execution_count": null,
      "metadata": {
        "id": "R1tgDUCzwoGL"
      },
      "outputs": [],
      "source": [
        "try:\n",
        "    print(response.json())\n",
        "except:\n",
        "    print('Response is not JSON')"
      ]
    },
    {
      "cell_type": "markdown",
      "metadata": {
        "id": "I9bmrPf2woGL"
      },
      "source": [
        "### PUT vs POST\n",
        "Both PUT and POST methods are used for sending data to a server. However, there is a crucial difference between them:\n",
        "\n",
        "* The PUT method is used to update or replace an existing resource on the host, while the POST method creates a new resource.\n",
        "* Another distinction is their idempotency. An idempotent action means that performing the same request multiple times has the same effect as performing it once. Thus, if you make the same PUT request several times, the result will always be the same. This concept does not apply to the POST method, as repeating the same request could potentially create multiple instances of the same resource."
      ]
    },
    {
      "cell_type": "code",
      "execution_count": null,
      "metadata": {
        "id": "AmYFj171woGL"
      },
      "outputs": [],
      "source": [
        "# The PATCH method is particularly usefu for partialy updating a resource. It comes in handy when making minor modifications to an otherwise large resource.\n",
        "\n",
        "item = {\n",
        "    \"id\": 1001,\n",
        "    \"category_level_1\": \"Electronics\",\n",
        "    \"category_level_2\": \"TV Accessories\",\n",
        "    \"category_level_3\": \"HDMI cables\",\n",
        "    \"category_level_4\": \"3m\",\n",
        "    \"price\": 24.9\n",
        "}\n",
        "\n",
        "url = \"http://httpbin.org/patch\"\n",
        "data = {\"key\": \"value\"}\n",
        "response = requests.patch(url=url, data=data)\n",
        "print(f\"The response status is {response.status_code}\\n\")"
      ]
    },
    {
      "cell_type": "markdown",
      "metadata": {
        "id": "u0JQbQV5woGL"
      },
      "source": [
        "### PATCH vs PUT\n",
        "As discussed earlier, the PATCH method enables partial updating of a resource, making it more efficient and practical than the PUT method, particularly when dealing with minor changes to large resources. It is important to note that the PUT method entirely replaces the existing resource with the one sent to the server.\n",
        "\n",
        "The main distinction between these two methods lies in how the server processes the enclosed resource. In the case of PUT, the enclosed resource is considered an updated version of the existing resource, and the server is requested to replace the original version. On the other hand, the PATCH method treats the enclosed resource as a set of instructions detailing the modifications to be made to the existing resource to obtain the updated version."
      ]
    },
    {
      "cell_type": "code",
      "execution_count": null,
      "metadata": {
        "id": "S_rn2pWQwoGL"
      },
      "outputs": [],
      "source": [
        "'''The DELETE method is used to remove a resource from a server. A couple of relevant status codes associated with the DELETE method:\n",
        "200: The action has been enacted, and the response include a message body.\n",
        "204: The action has been enacted, but the response does not include a message body.\n",
        "202: The request has been accepted, however the delete operation has not yet been performed, so the acion is pending.\n",
        "404: The method is not allowed for the specified resource.\n",
        "'''\n",
        "\n",
        "url = \"http://httpbin.org/delete\"\n",
        "response = requests.delete(url=url)\n",
        "print(f\"The response status is {response.status_code}\\n\")"
      ]
    },
    {
      "cell_type": "markdown",
      "metadata": {
        "id": "8q3Kkd1-woGL"
      },
      "source": [
        "### Less common HTTPS methods\n",
        "The most commonly-used HTTP methods include POST, GET, PUT, PATCH, and DELETE. However, there are other less-frequently used but important methods:\n",
        "* CONNECT: This method is employed for establishing a network connection to a web server.\n",
        "* OPTIONS: Clients can use the OPTIONS method to determine which HTTP methods and options are supported by a web server. A specific URL or an * (referring to the entire server) can be used.\n",
        "* TRACE: Primarily utilized for debugging purposes, the TRACE method enables a server to echo the received HTTP request back to the requester."
      ]
    },
    {
      "cell_type": "markdown",
      "metadata": {
        "id": "6X-2g_V4woGL"
      },
      "source": [
        "# Interacting with Secured APIs"
      ]
    },
    {
      "cell_type": "markdown",
      "metadata": {
        "id": "wwmyp8n_woGL"
      },
      "source": [
        "## Basic authentication\n",
        "Basic authentication, true to its name, is a straightforward authentication technique. To access the web server, users must supply a username and password as credentials."
      ]
    },
    {
      "cell_type": "code",
      "execution_count": null,
      "metadata": {
        "id": "qjwADRtTwoGL"
      },
      "outputs": [],
      "source": [
        "# Basic authentcation, with the credentials.\n",
        "url = \"https://postman-echo.com/basic-auth\"\n",
        "# Authentication credentials:\n",
        "username = \"postman\"\n",
        "password = \"password\"\n",
        "# The GET request:\n",
        "response = requests.get(url, auth=(username, password))\n",
        "print(f\"The response status is {response.status_code}\")"
      ]
    },
    {
      "cell_type": "code",
      "execution_count": null,
      "metadata": {
        "id": "e8gZ3HbJwoGL"
      },
      "outputs": [],
      "source": [
        "# Basic authentication, without the credentials.\n",
        "url = \"https://postman-echo.com/basic-auth\"\n",
        "# The GET request:\n",
        "response = requests.get(url)\n",
        "print(f\"The response status is {response.status_code}\")"
      ]
    },
    {
      "cell_type": "markdown",
      "metadata": {
        "id": "lDPWeVPqwoGL"
      },
      "source": [
        "### Token-Based authentication\n",
        "In some cases, we may not have a username and password for basic authentication. Instead, we might be provided with a token to be used as credentials."
      ]
    },
    {
      "cell_type": "code",
      "execution_count": null,
      "metadata": {
        "id": "vEA6spJ-woGL"
      },
      "outputs": [],
      "source": [
        "url = \"https://postman-echo.com/basic-auth\"\n",
        "# Authentication credentials:\n",
        "token = \"Basic cG9zdG1hbjpwYXNzd29yZA==\"\n",
        "header = {\"Authorization\" : token}\n",
        "# The GET request:\n",
        "response = requests.get(url, headers=header)\n",
        "print(f\"The response status is {response.status_code}\")"
      ]
    },
    {
      "cell_type": "markdown",
      "metadata": {
        "id": "JaUGNP0iwoGM"
      },
      "source": [
        "## Digest Authentication\n",
        "Basic authentication is generally not considered secure because credentials are transmitted to the host in an unprotected manner. Digest authentication aims to address this issue by creating a hash of the password using a hashing algorithm. This prevents credentials from being transmitted in plain text.\n",
        "\n",
        "Although digest authentication is more secure than basic authentication, it is still possible for malicious attempts to obtain the password hash. To mitigate this, a random number called nonce (number used only once) is used in the process. After hashing the password and username, the resulting value is combined with the nonce and hashed again before being sent to the server.\n",
        "\n",
        "The server then compares the received final hash with the hash and nonce stored in its database."
      ]
    },
    {
      "cell_type": "code",
      "execution_count": null,
      "metadata": {
        "id": "Bpr0c3oYwoGM"
      },
      "outputs": [],
      "source": [
        "from requests.auth import HTTPDigestAuth\n",
        "\n",
        "url = 'https://httpbin.org/digest-auth/auth/user/pass'\n",
        "# The GET request:\n",
        "response = requests.get(url, auth=HTTPDigestAuth('user', 'pass'))\n",
        "print(f\"The response status is {response.status_code}\")"
      ]
    },
    {
      "cell_type": "markdown",
      "metadata": {
        "id": "x_SKQL3rwoGM"
      },
      "source": [
        "### OAuth\n",
        "OAuth (Open Authorization) is an authentication protocol that facilitates the secure exchange of your information with third-party services, without requiring you to share your password.\n",
        "\n",
        "Suppose you have a blog on Medium, and you want your articles to be automatically posted or shared on your Twitter account. To set this up, you grant permission for Medium to access your Twitter profile and post tweets on your timeline. During the initial setup, Twitter will ask for your approval, and the rest of the process will be facilitated using OAuth."
      ]
    },
    {
      "cell_type": "code",
      "execution_count": null,
      "metadata": {
        "id": "xMmzWPINwoGM"
      },
      "outputs": [],
      "source": [
        "# pip install oauthlib\n",
        "# pip install requests_oauthlib\n",
        "from requests_oauthlib import OAuth1\n",
        "\n",
        "# URL and OAuth credentials:\n",
        "url = 'https://api.twitter.com/1.1/account/verify_credentials.json'\n",
        "auth = OAuth1('YOUR_APP_KEY', 'YOUR_APP_SECRET', 'USER_OAUTH_TOKEN', 'USER_OAUTH_TOKEN_SECRET')\n",
        "# The GET request:\n",
        "response = requests.get(url, auth=auth)\n",
        "print(f\"The response status is {response.status_code}\")"
      ]
    },
    {
      "cell_type": "markdown",
      "metadata": {
        "id": "CW244tBLwoGN"
      },
      "source": [
        "## Optimizing HTTP Requests\n",
        "### Measuring performance"
      ]
    },
    {
      "cell_type": "code",
      "execution_count": null,
      "metadata": {
        "id": "OZOvP5SywoGN"
      },
      "outputs": [],
      "source": [
        "%%time\n",
        "# Single request\n",
        "response = requests.get('https://www.google.com')\n",
        "# Measure one request."
      ]
    },
    {
      "cell_type": "code",
      "execution_count": null,
      "metadata": {
        "id": "AhPZEMBkwoGN"
      },
      "outputs": [],
      "source": [
        "%%time\n",
        "# Multiple requests\n",
        "response1 = requests.get('https://www.google.com')\n",
        "response2 = requests.get('https://www.google.com')\n",
        "response3 = requests.get('https://www.google.com')\n",
        "response4 = requests.get('https://www.google.com')\n",
        "response5 = requests.get('https://www.google.com')\n",
        "# Measure multiple requests."
      ]
    },
    {
      "cell_type": "markdown",
      "metadata": {
        "id": "ZlDDBkeXwoGN"
      },
      "source": [
        "### Connection Pooling\n",
        "Connection pooling is an optimization technique that enables the reuse of existing connections rather than creating a new connection with each request, resulting in faster response times. The Session object of the Requests library can be used to implement connection pooling."
      ]
    },
    {
      "cell_type": "code",
      "execution_count": null,
      "metadata": {
        "id": "MPvUa5qqwoGN"
      },
      "outputs": [],
      "source": [
        "%%time\n",
        "# Without connection pooling:\n",
        "response1 = requests.get('https://www.google.com')\n",
        "response2 = requests.get('https://www.google.com')\n",
        "response3 = requests.get('https://www.google.com')\n",
        "response4 = requests.get('https://www.google.com')\n",
        "response5 = requests.get('https://www.google.com')"
      ]
    },
    {
      "cell_type": "code",
      "execution_count": null,
      "metadata": {
        "id": "42w-TxEewoGN"
      },
      "outputs": [],
      "source": [
        "%%time\n",
        "# With connection pooling:\n",
        "session = requests.Session()\n",
        "response1 = session.get('https://www.google.com')\n",
        "response2 = session.get('https://www.google.com')\n",
        "response3 = session.get('https://www.google.com')\n",
        "response4 = session.get('https://www.google.com')\n",
        "response5 = session.get('https://www.google.com')"
      ]
    },
    {
      "cell_type": "markdown",
      "metadata": {
        "id": "bTyZn0aewoGN"
      },
      "source": [
        "### Compression\n",
        "The performance of web requests is influenced by both the number of requests and the amount of data being transferred. Enabling compression can help reduce the data transfer size, which is particularly important when requesting large amounts of data from a server.\n",
        "\n",
        "The Requests library has the Accept-Encoding header, which, by default, supports gzip and deflate compression options."
      ]
    },
    {
      "cell_type": "code",
      "execution_count": null,
      "metadata": {
        "id": "VkhbAmgvwoGN"
      },
      "outputs": [],
      "source": [
        "# URL and headers:\n",
        "url = \"https://www.google.com/maps/search/?api=1\"\n",
        "headers = {'Accept-Encoding': 'gzip'}\n",
        "# The GET request:\n",
        "response = requests.get(url, headers=headers)\n",
        "print(f\"The response status is {response.status_code}\")"
      ]
    },
    {
      "cell_type": "markdown",
      "metadata": {
        "id": "YUl2fUQxwoGN"
      },
      "source": [
        "### Keep-Alive\n",
        "In HTTP 1.0, server connections are closed after sending the response. To reuse the same connection for multiple requests and responses, the Connection: keep-alive header can be employed.\n",
        "\n",
        "However, in HTTP 1.1, all connections are treated as persistent by default, unless specified otherwise. When using the Requests library, we can create a Session object for multiple requests, which ensures that connections are automatically kept alive."
      ]
    },
    {
      "cell_type": "code",
      "execution_count": null,
      "metadata": {
        "id": "M43ERCrWwoGN"
      },
      "outputs": [],
      "source": [
        "# Create a session object:\n",
        "session = requests.session()\n",
        "# Check the connection:\n",
        "session.headers[\"Connection\"]"
      ]
    },
    {
      "cell_type": "code",
      "execution_count": null,
      "metadata": {
        "id": "SQN7fhwewoGN"
      },
      "outputs": [],
      "source": [
        "# Create a session object:\n",
        "session = requests.session()\n",
        "url = \"https://www.reddit.com\"\n",
        "status_codes = {}\n",
        "# Send 10 get requests using the same session and save the status codes:\n",
        "for i in range(10):\n",
        "    response = session.get(url=url)\n",
        "    status_codes[i] = response.status_code\n",
        "print(status_codes)"
      ]
    },
    {
      "cell_type": "markdown",
      "metadata": {
        "id": "g8EZT8LQwoGN"
      },
      "source": [
        "### Persisting Session Parameteres\n",
        "One of the benefits of using Session objects is their ability to persist parameters across multiple requests. This can be achieved by supplying data to various properties of a Session object."
      ]
    },
    {
      "cell_type": "code",
      "execution_count": null,
      "metadata": {
        "id": "MEz9jKbLwoGN"
      },
      "outputs": [],
      "source": [
        "# Authenticate a Session object.\n",
        "url = \"https://postman-echo.com/basic-auth\"\n",
        "session = requests.Session()\n",
        "session.auth = ('postman', 'password')\n",
        "response1 = session.get(url=url)\n",
        "response2 = session.get(url=url)\n",
        "response3 = requests.get(url=url)\n",
        "print(f\"The response 1 status is {response1.status_code}\")\n",
        "print(f\"The response 2 status is {response2.status_code}\")\n",
        "print(f\"The response 3 status is {response3.status_code}\")"
      ]
    },
    {
      "cell_type": "markdown",
      "metadata": {
        "id": "NA3XJv4NwoGO"
      },
      "source": [
        "# Advanced Requests Features"
      ]
    },
    {
      "cell_type": "markdown",
      "metadata": {
        "id": "gLkO0FHEwoGO"
      },
      "source": [
        "## Setting Request Timeout\n",
        "When making an HTTP request using the Requests library, there is no default timeout set for the request. As a result, your request could potentially run for an extended period. Although this might prevent your code from failing in some cases, it could lead to undesired outcomes if a client-server is unresponsive. Therefore, it is a good practice to set a timeout to better understand any issues caused by delayed responses or server unresponsiveness."
      ]
    },
    {
      "cell_type": "code",
      "execution_count": null,
      "metadata": {
        "id": "LMjqEf1RwoGO"
      },
      "outputs": [],
      "source": [
        "# Set timeout, but no handling of exceptions.\n",
        "import requests\n",
        "\n",
        "url = \"https://www.google.com/maps/search/?api=1\"\n",
        "# The GET request:\n",
        "response = requests.get(url=url, params={\"query\": \"Spotify+Camp+Nou/\"}, timeout=5)\n",
        "print(f\"The response status is {response.status_code}\")"
      ]
    },
    {
      "cell_type": "code",
      "execution_count": null,
      "metadata": {
        "id": "ije2o5fPwoGO"
      },
      "outputs": [],
      "source": [
        "# Set timeout, handle exceptions.\n",
        "url = \"https://www.google.com/maps/search/?api=1\"\n",
        "# Set a timeout value:\n",
        "timeout = 0.001\n",
        "# The GET request:\n",
        "try:\n",
        "    response = requests.get(url=url, params={\"query\": \"Spotify+Camp+Nou/\"}, timeout=timeout)\n",
        "    print(f\"The response status is {response.status_code}\")\n",
        "except requests.exceptions.ConnectTimeout:\n",
        "    print(\"Connection could not be created within the given timeout value.\")\n",
        "except requests.exceptions.ReadTimeout:\n",
        "    print(\"Reading could not be done within the given timeout value.\")"
      ]
    },
    {
      "cell_type": "markdown",
      "metadata": {
        "id": "WrKhtBGLwoGO"
      },
      "source": [
        "## Distinct Timeout Values\n",
        "A GET request comprises two main parts:\n",
        "* Establishing a connection\n",
        "* Reading the content\n",
        "\n",
        "Timeouts can occur during either of these phases. To pinpoint the exact cause of a timeout, we can set distinct timeouts for the connection and content reading stages. The stream parameter accepts a tuple containing the separate timeout values for these steps."
      ]
    },
    {
      "cell_type": "code",
      "execution_count": null,
      "metadata": {
        "id": "X45JcdM0woGO"
      },
      "outputs": [],
      "source": [
        "# Connection Timeout is low.\n",
        "url = \"https://www.google.com/maps/search/?api=1\"\n",
        "# Set a timeout value:\n",
        "timeout = (0.001, 2)\n",
        "# The GET request:\n",
        "try:\n",
        "    response = requests.get(url=url, params={\"query\": \"Spotify+Camp+Nou/\"}, timeout=timeout)\n",
        "    print(f\"The response status is {response.status_code}\")\n",
        "except requests.exceptions.ConnectTimeout:\n",
        "    print(\"Connection could not be created within the given timeout value.\")\n",
        "except requests.exceptions.ReadTimeout:\n",
        "    print(\"Reading could not be done within the given timeout value.\")"
      ]
    },
    {
      "cell_type": "code",
      "execution_count": null,
      "metadata": {
        "id": "Xli_pcBGwoGO"
      },
      "outputs": [],
      "source": [
        "# Read Timeout is low.\n",
        "url = \"https://www.google.com/maps/search/?api=1\"\n",
        "# Set a timeout value:\n",
        "timeout = (2, 0.001)\n",
        "# The GET request:\n",
        "try:\n",
        "    response = requests.get(url=url, params={\"query\": \"Spotify+Camp+Nou/\"}, timeout=timeout)\n",
        "    print(f\"The response status is {response.status_code}\")\n",
        "except requests.exceptions.ConnectTimeout:\n",
        "    print(\"Connection could not be created within the given timeout value.\")\n",
        "except requests.exceptions.ReadTimeout:\n",
        "    print(\"Reading could not be done within the given timeout value.\")"
      ]
    },
    {
      "cell_type": "markdown",
      "metadata": {
        "id": "pzI-a5-IwoGO"
      },
      "source": [
        "## Loading images\n",
        "To download a file using the Requests library, you need to read the content of a response and save it to a local file on your device. Three methods can be used to read the response from a server: content, json, or raw."
      ]
    },
    {
      "cell_type": "code",
      "execution_count": null,
      "metadata": {
        "id": "luTJ3fxmwoGO"
      },
      "outputs": [],
      "source": [
        "url = \"https://upload.wikimedia.org/wikipedia/commons/a/af/Tux.png\"\n",
        "# The GET request:\n",
        "response = requests.get(url=url, allow_redirects=True)\n",
        "# Write the content to a local file:\n",
        "with open(\"tux.png\", \"wb\") as f:\n",
        "    f.write(response.content)\n",
        "print(f\"The response status is {response.status_code}\")"
      ]
    },
    {
      "cell_type": "code",
      "execution_count": null,
      "metadata": {
        "id": "QT3EIm5lwoGO"
      },
      "outputs": [],
      "source": [
        "from IPython.display import Image\n",
        "\n",
        "Image(filename=\"tux.png\")"
      ]
    },
    {
      "cell_type": "markdown",
      "metadata": {
        "id": "C0C0NAvwwoGO"
      },
      "source": [
        "## Downloading Files\n",
        "Downloading different file types, such as JSON or text files, follows a similar process as downloading images."
      ]
    },
    {
      "cell_type": "code",
      "execution_count": null,
      "metadata": {
        "id": "1C_UI38FwoGO"
      },
      "outputs": [],
      "source": [
        "# Download a json file.\n",
        "url = \"https://reqres.in/api/users\"\n",
        "# The GET request:\n",
        "response = requests.get(url=url)\n",
        "# Write the content to a local file:\n",
        "with open(\"sample_file.json\", \"wb\") as f:\n",
        "    f.write(response.content)\n",
        "print(f\"The response status is {response.status_code}\")"
      ]
    },
    {
      "cell_type": "code",
      "execution_count": null,
      "metadata": {
        "id": "lNCFReRcwoGP"
      },
      "outputs": [],
      "source": [
        "# One of many ways to display json content.\n",
        "import json\n",
        "\n",
        "with open(\"sample_file.json\", \"r\") as f:\n",
        "     data = json.load(f)\n",
        "# Convert it to a Python dictionary:\n",
        "data_dict = dict(data)\n",
        "# Display the content:\n",
        "data_dict"
      ]
    },
    {
      "cell_type": "markdown",
      "metadata": {
        "id": "mGM8PqrZwoGP"
      },
      "source": [
        "## Handling Large Files\n",
        "Suppose we want to avoid downloading large files. The Requests library offers a flexible structure that allows us to check the file size before initiating the download. To achieve this, consider the following two points:\n",
        "\n",
        "* By default, the response body is downloaded immediately upon making a request. We can change this behavior by setting the stream parameter to True.\n",
        "* Before downloading the file, we can verify its size by checking the Content-Length header through the headers attribute of the response."
      ]
    },
    {
      "cell_type": "code",
      "execution_count": null,
      "metadata": {
        "id": "ExhnUvm5woGP"
      },
      "outputs": [],
      "source": [
        "url = \"https://upload.wikimedia.org/wikipedia/commons/a/af/Tux.png\"\n",
        "# The GET request:\n",
        "response = requests.get(url=url, allow_redirects=True, stream=True)\n",
        "# Get the content-length header:\n",
        "content_length = response.headers.get('content-length')\n",
        "print(f\"The content length is {content_length}\")"
      ]
    },
    {
      "cell_type": "code",
      "execution_count": null,
      "metadata": {
        "id": "yPyteXDVwoGP"
      },
      "outputs": [],
      "source": [
        "url = \"https://upload.wikimedia.org/wikipedia/commons/a/af/Tux.png\"\n",
        "# The GET request:\n",
        "response = requests.get(url=url, allow_redirects=True)\n",
        "# Get the content-length header:\n",
        "content_length = int(response.headers.get('content-length'))\n",
        "# Conditionally download the file:\n",
        "if content_length < 10000:\n",
        "    # Write the content to a local file:\n",
        "    with open(\"tux.png\", \"wb\") as f:\n",
        "        f.write(response.content)\n",
        "else:\n",
        "    print(f\"The file size is too large!\")"
      ]
    },
    {
      "cell_type": "markdown",
      "metadata": {
        "id": "JkvS735xwoGP"
      },
      "source": [
        "## Streaming APIs\n",
        "Streaming APIs are designed for real-time data consumption and are commonly employed by social media platforms, such as the Twitter Streaming API.\n",
        "\n",
        "The Requests library provides support for iterating over streaming APIs using the iter_lines method. It is essential to set the stream parameter to True when using this method"
      ]
    },
    {
      "cell_type": "code",
      "execution_count": null,
      "metadata": {
        "id": "1xNUnqYwwoGP"
      },
      "outputs": [],
      "source": [
        "url = \"https://httpbin.org/stream/20\"\n",
        "# The GET request:\n",
        "response = requests.get('https://httpbin.org/stream/5', stream=True)\n",
        "for line in response.iter_lines():\n",
        "    # Filter out keep-alive new lines:\n",
        "    if line:\n",
        "        decoded_line = json.loads(line.decode('utf-8'))\n",
        "        print(f\"\\nLine number {decoded_line['id']}\")\n",
        "        print(decoded_line)"
      ]
    },
    {
      "cell_type": "markdown",
      "metadata": {
        "id": "eYoDDxTowoGP"
      },
      "source": [
        "## Retrying Requests\n",
        "In certain cases, a webpage may fail to load in the browser. Often, we may attempt to retry the connection immediately or after a short duration. This is a common experience when sending HTTP requests to a server.\n",
        "\n",
        "There are several reasons why a request might not succeed. Some issues can be resolved by retrying the request. The Requests library offers a flexible approach to implementing retries in a request.\n",
        "\n",
        "To achieve this, we can use HTTPAdapter and Retry adapters."
      ]
    },
    {
      "cell_type": "code",
      "execution_count": null,
      "metadata": {
        "id": "VXMtWs25woGP"
      },
      "outputs": [],
      "source": [
        "from requests.adapters import HTTPAdapter, Retry\n",
        "\n",
        "url = \"https://www.google.com/maps/search/?api=1\"\n",
        "# Create a session object:\n",
        "session = requests.Session()\n",
        "retries = Retry(total=5)\n",
        "session.mount('https://', HTTPAdapter(max_retries=retries))\n",
        "session.get(url=url)"
      ]
    },
    {
      "cell_type": "markdown",
      "metadata": {
        "id": "eeuwVJB-woGP"
      },
      "source": [
        "## Custom Retry Strategies\n",
        "We can create more customized retry strategies by using additional parameters:\n",
        "* backoff_factor: This parameter determines the backoff factor to apply between attempts after the second try (as most errors are resolved immediately by a second attempt without any delay). The waiting period is calculated using the following formula:\n",
        "{backoff_factor} * (2 ** ({number_of_total_retries} - 1))\n",
        "* status_forcelist: This is a set of integer HTTP status codes on which we should enforce a retry. A retry is triggered if the request method is in allowed_methods and the response status code is in status_forcelist.\n",
        "\n",
        "If the request continues to fail after reaching the specified maximum number of attempts, a RetryError exception will be raised."
      ]
    },
    {
      "cell_type": "code",
      "execution_count": null,
      "metadata": {
        "id": "CSkvmh-EwoGP"
      },
      "outputs": [],
      "source": [
        "url = \"http://httpstat.us/503\"\n",
        "# Create a session object:\n",
        "session = requests.Session()\n",
        "retries = Retry(total=3, backoff_factor=0.5, status_forcelist=[502, 503, 504])\n",
        "session.mount('https://', HTTPAdapter(max_retries=retries))\n",
        "try:\n",
        "    session.get(url=url)\n",
        "except requests.exceptions.RetryError as e:\n",
        "    print(str(e.args[0]))"
      ]
    },
    {
      "cell_type": "code",
      "execution_count": null,
      "metadata": {
        "id": "AJIQR3yHwoGP"
      },
      "outputs": [],
      "source": []
    }
  ],
  "metadata": {
    "kernelspec": {
      "display_name": "Python 3 (ipykernel)",
      "language": "python",
      "name": "python3"
    },
    "language_info": {
      "codemirror_mode": {
        "name": "ipython",
        "version": 3
      },
      "file_extension": ".py",
      "mimetype": "text/x-python",
      "name": "python",
      "nbconvert_exporter": "python",
      "pygments_lexer": "ipython3",
      "version": "3.12.2"
    },
    "colab": {
      "provenance": [],
      "include_colab_link": true
    }
  },
  "nbformat": 4,
  "nbformat_minor": 0
}